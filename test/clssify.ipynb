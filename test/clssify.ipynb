{
 "cells": [
  {
   "cell_type": "markdown",
   "metadata": {},
   "source": [
    "# 텍스트 분류기 만들기"
   ]
  },
  {
   "cell_type": "code",
   "execution_count": 2,
   "metadata": {
    "collapsed": true
   },
   "outputs": [],
   "source": [
    "import os\n",
    "from textblob.classifiers import NaiveBayesClassifier\n",
    "# https://textblob.readthedocs.io/en/dev/_modules/textblob/classifiers.html\n",
    "from konlpy.tag import Mecab\n",
    "pos_tagger = Mecab()"
   ]
  },
  {
   "cell_type": "markdown",
   "metadata": {},
   "source": [
    "## 학습 데이터"
   ]
  },
  {
   "cell_type": "code",
   "execution_count": 123,
   "metadata": {
    "collapsed": false
   },
   "outputs": [],
   "source": [
    "train_data = []\n",
    "for root, dirs, files in os.walk('data'):\n",
    "    # 파일 모두 읽기\n",
    "    for fname in files:\n",
    "        full_fname = os.path.join(root, fname) # 읽을 파일 전체 경로\n",
    "        directorySeq = root.split('/')[1] # 디렉토리=카테고리\n",
    "        text = open(full_fname, 'r').read() # 파일 읽기\n",
    "        pos_tag = ['/'.join(token) for token in pos_tagger.pos(text)] # 형태소 분석\n",
    "        data = (pos_tag, directorySeq)\n",
    "        train_data.append(data) # 학습 데이터에 추가하기"
   ]
  },
  {
   "cell_type": "markdown",
   "metadata": {},
   "source": [
    "## 학습하기"
   ]
  },
  {
   "cell_type": "code",
   "execution_count": 124,
   "metadata": {
    "collapsed": false
   },
   "outputs": [],
   "source": [
    "cl = NaiveBayesClassifier(train_data)"
   ]
  },
  {
   "cell_type": "markdown",
   "metadata": {},
   "source": [
    "## 분류기준 살펴보기"
   ]
  },
  {
   "cell_type": "code",
   "execution_count": 125,
   "metadata": {
    "collapsed": false
   },
   "outputs": [
    {
     "name": "stdout",
     "output_type": "stream",
     "text": [
      "Most Informative Features\n",
      "         contains(맛/NNG) = True               29 : 19     =     63.7 : 1.0\n",
      "        contains(차량/NNG) = True               25 : 29     =     62.2 : 1.0\n",
      "        contains(영화/NNG) = True                6 : 20     =     62.1 : 1.0\n",
      "         contains(책/NNG) = True                5 : 25     =     56.6 : 1.0\n",
      "         contains(곡/NNG) = True               11 : 21     =     55.2 : 1.0\n"
     ]
    }
   ],
   "source": [
    "cl.show_informative_features(5)"
   ]
  },
  {
   "cell_type": "markdown",
   "metadata": {},
   "source": [
    "## 테스트하기"
   ]
  },
  {
   "cell_type": "code",
   "execution_count": 129,
   "metadata": {
    "collapsed": false
   },
   "outputs": [
    {
     "data": {
      "text/plain": [
       "'20'"
      ]
     },
     "execution_count": 129,
     "metadata": {},
     "output_type": "execute_result"
    }
   ],
   "source": [
    "test_data = \"안녕하세요.\"\n",
    "pos_tag = ['/'.join(token) for token in pos_tagger.pos(test_data)]\n",
    "result = cl.classify(pos_tag)\n",
    "result"
   ]
  },
  {
   "cell_type": "code",
   "execution_count": 130,
   "metadata": {
    "collapsed": true
   },
   "outputs": [],
   "source": [
    "def test(text):\n",
    "    pos_tag = ['/'.join(token) for token in pos_tagger.pos(test_data)]\n",
    "    return cl.classify(pos_tag)"
   ]
  },
  {
   "cell_type": "code",
   "execution_count": 131,
   "metadata": {
    "collapsed": false
   },
   "outputs": [
    {
     "data": {
      "text/plain": [
       "'20'"
      ]
     },
     "execution_count": 131,
     "metadata": {},
     "output_type": "execute_result"
    }
   ],
   "source": [
    "test(\"안녕하세요.\")"
   ]
  },
  {
   "cell_type": "code",
   "execution_count": 149,
   "metadata": {
    "collapsed": false
   },
   "outputs": [],
   "source": [
    "import requests                     # 서버 API 요청 모듈\n",
    "import json                         # json 파싱 모듈\n",
    "\n",
    "# 스팀잇에서 작성한 글 가져오기\n",
    "def post_detail(author='', permlink=''):\n",
    "    # 스팀잇에서 게시글 본문 가져오기\n",
    "    data = '''{\n",
    "        \"jsonrpc\": \"2.0\",\n",
    "        \"method\": \"condenser_api.get_content\",\n",
    "        \"params\": [\"%s\", \"%s\"],\n",
    "        \"id\": 1\n",
    "    }''' %(author, permlink)\n",
    "    response = requests.post('https://api.steemit.com', data=data)\n",
    "\n",
    "    if response.status_code == 200: # 응답이 성공이라면\n",
    "        data = json.loads(response.text) # JSON 파싱\n",
    "        post = data['result']\n",
    "        return post['body']\n",
    "    \n",
    "    return \"\""
   ]
  },
  {
   "cell_type": "code",
   "execution_count": 155,
   "metadata": {
    "collapsed": false
   },
   "outputs": [
    {
     "data": {
      "text/plain": [
       "'20'"
      ]
     },
     "execution_count": 155,
     "metadata": {},
     "output_type": "execute_result"
    }
   ],
   "source": [
    "test('병원')"
   ]
  },
  {
   "cell_type": "markdown",
   "metadata": {},
   "source": [
    "# 정확도 측정하기"
   ]
  },
  {
   "cell_type": "code",
   "execution_count": 3,
   "metadata": {
    "collapsed": false
   },
   "outputs": [
    {
     "ename": "NameError",
     "evalue": "name 'cl' is not defined",
     "output_type": "error",
     "traceback": [
      "\u001b[0;31m-----------------------------------------------------------\u001b[0m",
      "\u001b[0;31mNameError\u001b[0m                 Traceback (most recent call last)",
      "\u001b[0;32m<ipython-input-3-a64d0cc78969>\u001b[0m in \u001b[0;36m<module>\u001b[0;34m()\u001b[0m\n\u001b[1;32m     10\u001b[0m         \u001b[0mtest_data\u001b[0m\u001b[0;34m.\u001b[0m\u001b[0mappend\u001b[0m\u001b[0;34m(\u001b[0m\u001b[0mdata\u001b[0m\u001b[0;34m)\u001b[0m \u001b[0;31m# 학습 데이터에 추가하기\u001b[0m\u001b[0;34m\u001b[0m\u001b[0m\n\u001b[1;32m     11\u001b[0m \u001b[0;34m\u001b[0m\u001b[0m\n\u001b[0;32m---> 12\u001b[0;31m \u001b[0mcl\u001b[0m\u001b[0;34m.\u001b[0m\u001b[0maccuracy\u001b[0m\u001b[0;34m(\u001b[0m\u001b[0mtest_data\u001b[0m\u001b[0;34m)\u001b[0m\u001b[0;34m\u001b[0m\u001b[0m\n\u001b[0m",
      "\u001b[0;31mNameError\u001b[0m: name 'cl' is not defined"
     ]
    }
   ],
   "source": [
    "test_data = []\n",
    "for root, dirs, files in os.walk('data'):\n",
    "    # 파일 모두 읽기\n",
    "    for fname in files:\n",
    "        full_fname = os.path.join(root, fname) # 읽을 파일 전체 경로\n",
    "        directorySeq = root.split('/')[1] # 디렉토리=카테고리\n",
    "        text = open(full_fname, 'r').read() # 파일 읽기\n",
    "        pos_tag = ['/'.join(token) for token in pos_tagger.pos(text)] # 형태소 분석\n",
    "        data = (pos_tag, directorySeq)\n",
    "        test_data.append(data) # 학습 데이터에 추가하기\n",
    "\n",
    "cl.accuracy(test_data)"
   ]
  },
  {
   "cell_type": "code",
   "execution_count": null,
   "metadata": {
    "collapsed": true
   },
   "outputs": [],
   "source": [
    "# https://www.tensorflow.org/tutorials/keras/basic_text_classification"
   ]
  }
 ],
 "metadata": {
  "kernelspec": {
   "display_name": "Python 3",
   "language": "python",
   "name": "python3"
  },
  "language_info": {
   "codemirror_mode": {
    "name": "ipython",
    "version": 3
   },
   "file_extension": ".py",
   "mimetype": "text/x-python",
   "name": "python",
   "nbconvert_exporter": "python",
   "pygments_lexer": "ipython3",
   "version": "3.6.0"
  }
 },
 "nbformat": 4,
 "nbformat_minor": 2
}
